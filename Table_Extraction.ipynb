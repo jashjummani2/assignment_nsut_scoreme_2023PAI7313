{
  "nbformat": 4,
  "nbformat_minor": 0,
  "metadata": {
    "colab": {
      "provenance": []
    },
    "kernelspec": {
      "name": "python3",
      "display_name": "Python 3"
    },
    "language_info": {
      "name": "python"
    }
  },
  "cells": [
    {
      "cell_type": "code",
      "source": [
        "!pip install PyPDF2"
      ],
      "metadata": {
        "colab": {
          "base_uri": "https://localhost:8080/"
        },
        "id": "Bc-aASGVAr0D",
        "outputId": "c07b1ab3-bcdf-4479-f247-31a916305076"
      },
      "execution_count": 1,
      "outputs": [
        {
          "output_type": "stream",
          "name": "stdout",
          "text": [
            "Collecting PyPDF2\n",
            "  Downloading pypdf2-3.0.1-py3-none-any.whl.metadata (6.8 kB)\n",
            "Downloading pypdf2-3.0.1-py3-none-any.whl (232 kB)\n",
            "\u001b[?25l   \u001b[90m━━━━━━━━━━━━━━━━━━━━━━━━━━━━━━━━━━━━━━━━\u001b[0m \u001b[32m0.0/232.6 kB\u001b[0m \u001b[31m?\u001b[0m eta \u001b[36m-:--:--\u001b[0m\r\u001b[2K   \u001b[90m━━━━━━━━━━━━━━━━━━━━━━━━━━━━━━━━━━━━━━━━\u001b[0m \u001b[32m232.6/232.6 kB\u001b[0m \u001b[31m7.4 MB/s\u001b[0m eta \u001b[36m0:00:00\u001b[0m\n",
            "\u001b[?25hInstalling collected packages: PyPDF2\n",
            "Successfully installed PyPDF2-3.0.1\n"
          ]
        }
      ]
    },
    {
      "cell_type": "code",
      "execution_count": 22,
      "metadata": {
        "colab": {
          "base_uri": "https://localhost:8080/"
        },
        "id": "pdtyQMYcAXy8",
        "outputId": "4c2e83c3-dd59-4bd3-c8c6-d15d6f35a0f4"
      },
      "outputs": [
        {
          "output_type": "execute_result",
          "data": {
            "text/plain": [
              "5"
            ]
          },
          "metadata": {},
          "execution_count": 22
        }
      ],
      "source": [
        "from PyPDF2 import PdfReader\n",
        "#Here in pdfreader function, add the location of your pdf\n",
        "reader = PdfReader(\"/content/drive/MyDrive/Multify-docs/test3 (1).pdf\")\n",
        "number_of_pages = len(reader.pages)\n",
        "final = ''\n",
        "for i in range(number_of_pages):\n",
        "  page = reader.pages[i]\n",
        "  final= final+' '+page.extract_text()\n",
        "final\n",
        "fi=final.split('Statement of account for the period of')\n",
        "len(fi)\n"
      ]
    },
    {
      "cell_type": "code",
      "source": [
        "def concatenate_by_interval(lst, interval=2):\n",
        "    return [\" \".join(lst[i:i+interval]) for i in range(0, len(lst), interval)]"
      ],
      "metadata": {
        "id": "h6cEJDY4PvxZ"
      },
      "execution_count": 31,
      "outputs": []
    },
    {
      "cell_type": "code",
      "source": [
        "import pandas as pd\n",
        "def create_df(i):\n",
        "  try:\n",
        "\n",
        "    ls=fi[i].split('BANK NAME')[0].split('\\n')[1:]\n",
        "    ff = concatenate_by_interval(ls)\n",
        "\n",
        "    df = pd.DataFrame(ff,columns=['Data'])\n",
        "  except:\n",
        "    df = pd.DataFrame([],columns=['Data'])\n",
        "  return df\n",
        "df1 = create_df(1)\n",
        "for i in range(2,len(fi)):\n",
        "  df = create_df(i)\n",
        "  df1 = pd.concat([df1,df])\n",
        "\n",
        "print(df1)"
      ],
      "metadata": {
        "colab": {
          "base_uri": "https://localhost:8080/"
        },
        "id": "bNtF_VGdAuIy",
        "outputId": "f03004b4-7718-41db-aa30-203e575660a0"
      },
      "execution_count": 52,
      "outputs": [
        {
          "output_type": "stream",
          "name": "stdout",
          "text": [
            "                                                 Data\n",
            "0   01-APR-2022     B/F                           ...\n",
            "1   04-Apr-2022 T   BY 06971000010040             ...\n",
            "2   04-Apr-2022 C   By Cash                       ...\n",
            "3   20-Apr-2022 T   BY 06971000010040             ...\n",
            "4   29-Apr-2022 C   By Cash                       ...\n",
            "..                                                ...\n",
            "0   REPORT!MAILID# NOTE: 1) Maximum interest rate ...\n",
            "1   2) Sanction Limit and Interest Rate is as on C...\n",
            "2   contact home branch Note:DICGC insures princip...\n",
            "3   admissible amount of Rs 5 lakh  subject to cha...\n",
            "4                            ****END OF STATEMENT****\n",
            "\n",
            "[81 rows x 1 columns]\n"
          ]
        }
      ]
    },
    {
      "cell_type": "code",
      "source": [
        "df1.to_excel(\"output.xlsx\")"
      ],
      "metadata": {
        "id": "20RZgvxhAyqM"
      },
      "execution_count": 55,
      "outputs": []
    },
    {
      "cell_type": "code",
      "source": [],
      "metadata": {
        "id": "i1AMli6ZaAMG"
      },
      "execution_count": null,
      "outputs": []
    }
  ]
}